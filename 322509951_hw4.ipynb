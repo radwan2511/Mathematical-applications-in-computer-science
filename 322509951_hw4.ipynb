{
  "nbformat": 4,
  "nbformat_minor": 0,
  "metadata": {
    "kernelspec": {
      "name": "python3",
      "display_name": "Python 3"
    },
    "colab": {
      "name": "322509951_hw4.ipynb",
      "provenance": [],
      "collapsed_sections": []
    }
  },
  "cells": [
    {
      "cell_type": "markdown",
      "metadata": {
        "id": "nuCFdN40kD3N"
      },
      "source": [
        "# Assignment 4: Differentiation and optimization"
      ]
    },
    {
      "cell_type": "code",
      "metadata": {
        "id": "EbQdRNfPkD3N"
      },
      "source": [
        "import sympy as sym # symbolic differentiation\n",
        "import jax          # algorithmic differentiation\n",
        "import jax.numpy as np\n",
        "import matplotlib.pyplot as plt\n",
        "import math"
      ],
      "execution_count": 268,
      "outputs": []
    },
    {
      "cell_type": "markdown",
      "metadata": {
        "id": "0NFDA3uFHcf_"
      },
      "source": [
        "## Question 1: Differentiation\n",
        "\n",
        "Function \n",
        "\n",
        "$$f(a, b) = \\frac 1 b cos(a) \\exp \\left( - \\frac {a^2} {b^2}\\right)$$\n",
        "\n",
        "is given."
      ]
    },
    {
      "cell_type": "markdown",
      "metadata": {
        "id": "CvlvWUY1WdMZ"
      },
      "source": [
        "1. Derive the partial derivatives of $f(a, b)$ by $a$ and $b$.\n",
        "\n",
        "    $$\\frac {\\partial f} {\\partial a} = $$\n",
        "    $$\\frac {\\partial f} {\\partial b} = $$"
      ]
    },
    {
      "cell_type": "code",
      "metadata": {
        "id": "7EDoX2crWyzC",
        "colab": {
          "base_uri": "https://localhost:8080/"
        },
        "outputId": "78a03065-61b9-4f92-df3b-d5aeb3f90e7d"
      },
      "source": [
        "a = sym.Symbol('a')\r\n",
        "b = sym.Symbol('b')\r\n",
        "print(\"df/da =\",sym.diff(sym.cos(a)*sym.exp(-(a*a)/(b*b))/b, a))\r\n",
        "print()\r\n",
        "print(\"df/db =\",sym.diff(sym.cos(a)*sym.exp(-(a*a)/(b*b))/b, b))"
      ],
      "execution_count": 269,
      "outputs": [
        {
          "output_type": "stream",
          "text": [
            "df/da = -2*a*exp(-a**2/b**2)*cos(a)/b**3 - exp(-a**2/b**2)*sin(a)/b\n",
            "\n",
            "df/db = 2*a**2*exp(-a**2/b**2)*cos(a)/b**4 - exp(-a**2/b**2)*cos(a)/b**2\n"
          ],
          "name": "stdout"
        }
      ]
    },
    {
      "cell_type": "markdown",
      "metadata": {
        "id": "teHG_JS4ZE9s"
      },
      "source": [
        "2. Implement the derivatives as Python functions:\n",
        "  1. according to symbolic expressions.\n",
        "  2. using algorithmic differentiation (with `jax`).\n",
        "  \n",
        "  Compare the accuracy of symbolic and algorithmic differentiation."
      ]
    },
    {
      "cell_type": "code",
      "metadata": {
        "id": "vJV-ytPHZJRR"
      },
      "source": [
        "#1 \r\n",
        "def according_to_symbolic_expressions_a(a,b):\r\n",
        "  #-2*a*exp(-a**2/b**2)*cos(a)/b**3 - exp(-a**2/b**2)*sin(a)/b\r\n",
        "  x = sym.exp(-a**2/b**2)*sym.cos(a)\r\n",
        "  y = sym.exp(-a**2/b**2)*sym.sin(a)\r\n",
        "  return -2*a*x/b**3 -y/b\r\n",
        "\r\n",
        "def according_to_symbolic_expressions_b(a, b):\r\n",
        "  #2*a**2*exp(-a**2/b**2)*cos(a)/b**4 - exp(-a**2/b**2)*cos(a)/b**2\r\n",
        "  x = sym.exp(-a**2/b**2)*sym.cos(a)\r\n",
        "  y = sym.exp(-a**2/b**2)*sym.cos(a)\r\n",
        "  return 2*a**2*x/b**4 - y/b**2\r\n",
        "\r\n",
        "#2\r\n",
        "def f(a,b):\r\n",
        "  x = np.cos(a)\r\n",
        "  y = np.exp(-(a*a)/(b*b))\r\n",
        "  return x*y/b\r\n",
        "\r\n",
        "dfoo_a = jax.grad(f,0)\r\n",
        "dfoo_b = jax.grad(f,1)\r\n",
        "\r\n",
        "da_sym = according_to_symbolic_expressions_a\r\n",
        "db_sym = according_to_symbolic_expressions_b\r\n",
        "\r\n"
      ],
      "execution_count": 270,
      "outputs": []
    },
    {
      "cell_type": "code",
      "metadata": {
        "colab": {
          "base_uri": "https://localhost:8080/"
        },
        "id": "Ye3RLnrDpsHA",
        "outputId": "09580422-fcae-42d8-d87f-39d78d8b6ef9"
      },
      "source": [
        "#max difference between jax and sym by the Derivative by 'a' parameter, i chosed the 'b' parameter to be 10\r\n",
        "\r\n",
        "y = np.linspace(-20.0, 20.0, 4000)\r\n",
        "max_a = 0\r\n",
        "max_b = 0\r\n",
        "max_diff = 0\r\n",
        "b = 10\r\n",
        "for a in y:\r\n",
        "  if ( max_diff < abs(dfoo_a(a,b) - da_sym(a,b))):\r\n",
        "    max_diff = abs(dfoo_a(a,b) - da_sym(a,b))\r\n",
        "    max_a = a\r\n",
        "    max_b = b\r\n",
        "\r\n",
        "print(\"a =\",max_a)\r\n",
        "print(\"b =\",max_b)\r\n",
        "print(\"the accuracy of symbolic and algorithmic differentiation by 'a' is:\",float(max_diff))"
      ],
      "execution_count": 271,
      "outputs": [
        {
          "output_type": "stream",
          "text": [
            "a = -8.847213\n",
            "b = 10\n",
            "the accuracy of symbolic and algorithmic differentiation by 'a' is: 4.390885718213999e-08\n"
          ],
          "name": "stdout"
        }
      ]
    },
    {
      "cell_type": "code",
      "metadata": {
        "colab": {
          "base_uri": "https://localhost:8080/"
        },
        "id": "pnop7mcEvOp9",
        "outputId": "62cc0d68-3723-4a97-fdb9-eb24b50d1828"
      },
      "source": [
        "#max difference between jax and sym by the Derivative by 'b' parameter, i chosed the 'a' parameter to be 10\r\n",
        "\r\n",
        "y = np.linspace(1.0, 100.0, 4000)\r\n",
        "max_a = 0\r\n",
        "max_b = 0\r\n",
        "max_diff = 0\r\n",
        "a = 10\r\n",
        "for b in y:\r\n",
        "    if ( max_diff < abs(dfoo_b(a,b) - db_sym(a,b))):\r\n",
        "      max_diff = abs(dfoo_b(a,b) - db_sym(a,b))\r\n",
        "      max_a = a\r\n",
        "      max_b = b\r\n",
        "\r\n",
        "print(\"a =\",max_a)\r\n",
        "print(\"b =\",max_b)\r\n",
        "print(\"the accuracy of symbolic and algorithmic differentiation by 'b' is:\",float(max_diff))"
      ],
      "execution_count": 272,
      "outputs": [
        {
          "output_type": "stream",
          "text": [
            "a = 10\n",
            "b = 7.7336836\n",
            "the accuracy of symbolic and algorithmic differentiation by 'b' is: 2.3223488461534377e-09\n"
          ],
          "name": "stdout"
        }
      ]
    },
    {
      "cell_type": "markdown",
      "metadata": {
        "id": "K95Vz9uTWzv5"
      },
      "source": [
        "3. Plot \n",
        "  * $f(a, 10)$, $\\frac {\\partial f(a, 10)} {\\partial a}$ for range $a \\in [-20, 20]$, \n",
        "  * $f(10, b)$, $\\frac {\\partial f(10, b)} {\\partial b}$ for range $b \\in 1, 100$."
      ]
    },
    {
      "cell_type": "markdown",
      "metadata": {
        "id": "anEHc8UhuEeV"
      },
      "source": [
        "#plotting using jax"
      ]
    },
    {
      "cell_type": "code",
      "metadata": {
        "id": "nKErhdqUYhw6",
        "colab": {
          "base_uri": "https://localhost:8080/",
          "height": 282
        },
        "outputId": "30c007ed-5b91-4899-bf3f-eadfaf487aad"
      },
      "source": [
        "#plotting using jax\r\n",
        "x = np.linspace(-20.0, 20.0, 1000)\r\n",
        "plt.plot(x, [dfoo_a(x,10) for x in x], label=\"d foo_a/d x\")\r\n",
        "plt.plot(x, [f(x,10) for x in x], label=\" foo x\")\r\n",
        "plt.legend()"
      ],
      "execution_count": 5,
      "outputs": [
        {
          "output_type": "execute_result",
          "data": {
            "text/plain": [
              "<matplotlib.legend.Legend at 0x7fb140a14240>"
            ]
          },
          "metadata": {
            "tags": []
          },
          "execution_count": 5
        },
        {
          "output_type": "display_data",
          "data": {
            "image/png": "[encoded data removed]",
            "text/plain": [
              "<Figure size 432x288 with 1 Axes>"
            ]
          },
          "metadata": {
            "tags": [],
            "needs_background": "light"
          }
        }
      ]
    },
    {
      "cell_type": "code",
      "metadata": {
        "colab": {
          "base_uri": "https://localhost:8080/",
          "height": 282
        },
        "id": "3xD69Qte8u9i",
        "outputId": "97440484-cee8-4cbb-9611-8231642cc377"
      },
      "source": [
        "x = np.linspace(1.0, 100.0, 1000)\r\n",
        "plt.plot(x, [dfoo_b(10,x) for x in x], label=\"d foo_b/d x\")\r\n",
        "plt.plot(x, [f(10,x) for x in x], label=\" foo x\")\r\n",
        "plt.legend()"
      ],
      "execution_count": 36,
      "outputs": [
        {
          "output_type": "execute_result",
          "data": {
            "text/plain": [
              "<matplotlib.legend.Legend at 0x7fac971d00b8>"
            ]
          },
          "metadata": {
            "tags": []
          },
          "execution_count": 36
        },
        {
          "output_type": "display_data",
          "data": {
            "image/png": "[encoded data removed]",
            "text/plain": [
              "<Figure size 432x288 with 1 Axes>"
            ]
          },
          "metadata": {
            "tags": [],
            "needs_background": "light"
          }
        }
      ]
    },
    {
      "cell_type": "markdown",
      "metadata": {
        "id": "GmJFukn_uIby"
      },
      "source": [
        "#plotting using sym"
      ]
    },
    {
      "cell_type": "code",
      "metadata": {
        "colab": {
          "base_uri": "https://localhost:8080/",
          "height": 282
        },
        "id": "-WMZBt_2Z1v_",
        "outputId": "d1ba9d60-42de-451c-9b53-4857c7de8ec9"
      },
      "source": [
        "#plotting using sym\r\n",
        "x = np.linspace(-20.0, 20.0, 1000)\r\n",
        "plt.plot(x, [da_sym(x,10) for x in x], label=\"d foo_a/d x\")\r\n",
        "plt.plot(x, [f(x,10) for x in x], label=\" foo x\")\r\n",
        "plt.legend()"
      ],
      "execution_count": 37,
      "outputs": [
        {
          "output_type": "execute_result",
          "data": {
            "text/plain": [
              "<matplotlib.legend.Legend at 0x7fac922602e8>"
            ]
          },
          "metadata": {
            "tags": []
          },
          "execution_count": 37
        },
        {
          "output_type": "display_data",
          "data": {
            "image/png": "[encoded data removed]",
            "text/plain": [
              "<Figure size 432x288 with 1 Axes>"
            ]
          },
          "metadata": {
            "tags": [],
            "needs_background": "light"
          }
        }
      ]
    },
    {
      "cell_type": "code",
      "metadata": {
        "colab": {
          "base_uri": "https://localhost:8080/",
          "height": 282
        },
        "id": "XO1cCTHMZ2MG",
        "outputId": "4292d7d8-b631-494e-cf2b-8b7b6aac24bb"
      },
      "source": [
        "x = np.linspace(1.0, 100.0, 1000)\r\n",
        "plt.plot(x, [db_sym(10,x) for x in x], label=\"d foo_b/d x\")\r\n",
        "plt.plot(x, [f(10,x) for x in x], label=\" foo x\")\r\n",
        "plt.legend()"
      ],
      "execution_count": 38,
      "outputs": [
        {
          "output_type": "execute_result",
          "data": {
            "text/plain": [
              "<matplotlib.legend.Legend at 0x7fac91fad208>"
            ]
          },
          "metadata": {
            "tags": []
          },
          "execution_count": 38
        },
        {
          "output_type": "display_data",
          "data": {
            "image/png": "[encoded data removed]",
            "text/plain": [
              "<Figure size 432x288 with 1 Axes>"
            ]
          },
          "metadata": {
            "tags": [],
            "needs_background": "light"
          }
        }
      ]
    },
    {
      "cell_type": "markdown",
      "metadata": {
        "id": "ZT8qvZtLZVpr"
      },
      "source": [
        "4. Implement a function for approximate numerical differentiation, given the difference size $h$."
      ]
    },
    {
      "cell_type": "code",
      "metadata": {
        "id": "Xiylvd_FZnjB"
      },
      "source": [
        "def diff(f, x, h):\n",
        "  \"\"\"Differentiates f at x numerically, using h as the difference.\n",
        "  \"\"\"\n",
        "  return (f(x + h) - f(x))/(h)\n"
      ],
      "execution_count": 273,
      "outputs": []
    },
    {
      "cell_type": "markdown",
      "metadata": {
        "id": "NvamVGzCZzeT"
      },
      "source": [
        "5. Find the best difference size $h$ for differentiating\n",
        "   * $f(3, 10)$ by $a$.\n",
        "   * $f(1, 1)$ by $b$.\n",
        "   The best difference size minimizes the error of numerical differentiation relative to the exact differentiation."
      ]
    },
    {
      "cell_type": "code",
      "metadata": {
        "id": "tvJQWya8PelW"
      },
      "source": [
        "def make_fxy(f, x, y):\r\n",
        "    def fx(x):\r\n",
        "        return f(x, y)\r\n",
        "    def fy(y):\r\n",
        "        return f(x, y)\r\n",
        "    return fx, fy\r\n",
        "\r\n",
        "\r\n",
        "# relative error = ( | measured - real | ) / real"
      ],
      "execution_count": 274,
      "outputs": []
    },
    {
      "cell_type": "code",
      "metadata": {
        "id": "A-_-Mpn1aHuL"
      },
      "source": [
        "#f(3,10) by a\r\n",
        "a = 3.0\r\n",
        "b = 10.0\r\n",
        "best_h = 0\r\n",
        "min_diff = 100\r\n",
        "\r\n",
        "fx, fy = make_fxy(f, a, b)"
      ],
      "execution_count": 275,
      "outputs": []
    },
    {
      "cell_type": "code",
      "metadata": {
        "colab": {
          "base_uri": "https://localhost:8080/",
          "height": 301
        },
        "id": "hERIhpmLTSKI",
        "outputId": "57b422e6-fa31-47bc-f205-b81d44363cdc"
      },
      "source": [
        "print(\"ploting to show the minimum point:\")\r\n",
        "x = np.linspace(0.0000000001, 100.0, 1000)\r\n",
        "plt.plot(x, [abs((diff(fx,a,h) - da_sym(a,b))/da_sym(a,b)) for h in x], label=\"d foo_b/d x\")"
      ],
      "execution_count": 264,
      "outputs": [
        {
          "output_type": "stream",
          "text": [
            "ploting to show the minimum point:\n"
          ],
          "name": "stdout"
        },
        {
          "output_type": "execute_result",
          "data": {
            "text/plain": [
              "[<matplotlib.lines.Line2D at 0x7fb136a37978>]"
            ]
          },
          "metadata": {
            "tags": []
          },
          "execution_count": 264
        },
        {
          "output_type": "display_data",
          "data": {
            "image/png": "[encoded data removed]",
            "text/plain": [
              "<Figure size 432x288 with 1 Axes>"
            ]
          },
          "metadata": {
            "tags": [],
            "needs_background": "light"
          }
        }
      ]
    },
    {
      "cell_type": "markdown",
      "metadata": {
        "id": "jeq5WC0Rn7Nf"
      },
      "source": [
        "#trying to find best h by finding relative error"
      ]
    },
    {
      "cell_type": "code",
      "metadata": {
        "colab": {
          "base_uri": "https://localhost:8080/"
        },
        "id": "Ytm5Mj6hXaB3",
        "outputId": "3c934d5a-4e7c-428d-e7dd-34f00b527349"
      },
      "source": [
        "#calculating the best h\r\n",
        "x = np.linspace(0.0000001, 0.001, 10000)\r\n",
        "best_h = 0\r\n",
        "min_diff = 100\r\n",
        "for h in x:\r\n",
        "  if(min_diff > abs(( diff(fx,a,h) - da_sym(a,b)) / da_sym(a,b))):\r\n",
        "    min_diff = abs(( diff(fx,a,h) - da_sym(a,b)) / da_sym(a,b))\r\n",
        "    best_h = h\r\n",
        "\r\n",
        "print(\"the best difference size  h  for differentiating f(3,10) by a is:\",'{0:.10f}'.format(best_h))\r\n",
        "print(\"the best difference is:\",min_diff,\"\\n\")"
      ],
      "execution_count": 249,
      "outputs": [
        {
          "output_type": "stream",
          "text": [
            "the best difference size  h  for differentiating f(3,10) by a is: 0.0000679000\n",
            "the best difference is: 2.38749036646054e-7 \n",
            "\n"
          ],
          "name": "stdout"
        }
      ]
    },
    {
      "cell_type": "markdown",
      "metadata": {
        "id": "uHn0axkrobr7"
      },
      "source": [
        "#finding the best h using newton function\r\n",
        "\r\n"
      ]
    },
    {
      "cell_type": "code",
      "metadata": {
        "colab": {
          "base_uri": "https://localhost:8080/"
        },
        "id": "9yMGu3wDjGYs",
        "outputId": "94a8d9a0-7f57-491f-f174-514acbd0bfdf"
      },
      "source": [
        "def newton(f, x0, niter=10):\r\n",
        "  df = jax.grad(f)\r\n",
        "  ddf = jax.grad(df)\r\n",
        "  x = x0\r\n",
        "  for i in range(niter):\r\n",
        "    x = x - df(x)/ddf(x)\r\n",
        "  return x\r\n",
        "\r\n",
        "print(da_sym(a,b))"
      ],
      "execution_count": 276,
      "outputs": [
        {
          "output_type": "stream",
          "text": [
            "-0.00746868752819797\n"
          ],
          "name": "stdout"
        }
      ]
    },
    {
      "cell_type": "code",
      "metadata": {
        "colab": {
          "base_uri": "https://localhost:8080/"
        },
        "id": "eMFDV3VejGeW",
        "outputId": "886d0f3d-a990-4929-88d3-03f6c7737635"
      },
      "source": [
        "def func(h):\r\n",
        "  return abs( (diff(fx,a,h) - -0.00746868752819797) / -0.00746868752819797)\r\n",
        "\r\n",
        "best_h = newton(func,0.00000001,niter=10)\r\n",
        "min_diff = func(best_h)\r\n",
        "print(\"the best difference size  h  for differentiating f(3,10) by a is:\",'{0:.10f}'.format(best_h))\r\n",
        "print(\"the best difference is:\",min_diff,\"\\n\")"
      ],
      "execution_count": 277,
      "outputs": [
        {
          "output_type": "stream",
          "text": [
            "the best difference size  h  for differentiating f(3,10) by a is: 0.0000005766\n",
            "the best difference is: 1.0 \n",
            "\n"
          ],
          "name": "stdout"
        }
      ]
    },
    {
      "cell_type": "code",
      "metadata": {
        "id": "W3EneLohROde"
      },
      "source": [
        "#f(1,1) by b\r\n",
        "a = 1.0\r\n",
        "b = 1.0\r\n",
        "best_h = 0\r\n",
        "min_diff = 100\r\n",
        "\r\n",
        "fx, fy = make_fxy(f, a, b)"
      ],
      "execution_count": 286,
      "outputs": []
    },
    {
      "cell_type": "code",
      "metadata": {
        "colab": {
          "base_uri": "https://localhost:8080/",
          "height": 299
        },
        "id": "nmhhzjCDTZ2f",
        "outputId": "a98f1175-1f71-4091-dd8e-f6d1150689b1"
      },
      "source": [
        "print(\"ploting to show the minimum point:\")\r\n",
        "x = np.linspace(0.0000000001, 100.0, 1000)\r\n",
        "plt.plot(x, [abs((diff(fy,b,h) - db_sym(a,b))/db_sym(a,b)) for h in x], label=\"d foo_a/d x\")"
      ],
      "execution_count": 251,
      "outputs": [
        {
          "output_type": "stream",
          "text": [
            "ploting to show the minimum point:\n"
          ],
          "name": "stdout"
        },
        {
          "output_type": "execute_result",
          "data": {
            "text/plain": [
              "[<matplotlib.lines.Line2D at 0x7fb136c3dc50>]"
            ]
          },
          "metadata": {
            "tags": []
          },
          "execution_count": 251
        },
        {
          "output_type": "display_data",
          "data": {
            "image/png": "[encoded data removed]",
            "text/plain": [
              "<Figure size 432x288 with 1 Axes>"
            ]
          },
          "metadata": {
            "tags": [],
            "needs_background": "light"
          }
        }
      ]
    },
    {
      "cell_type": "markdown",
      "metadata": {
        "id": "Poyg1Ka1vfwC"
      },
      "source": [
        "#trying to find best h by finding minimum relative error"
      ]
    },
    {
      "cell_type": "code",
      "metadata": {
        "colab": {
          "base_uri": "https://localhost:8080/"
        },
        "id": "1R1NnnSCXkDA",
        "outputId": "c33c2551-c952-4c10-da02-ec4c0acd0220"
      },
      "source": [
        "x = np.linspace(0.0000001, 0.0001, 10000)\r\n",
        "for h in x:\r\n",
        "  if(min_diff > abs( (diff(fy,b,h) - db_sym(a,b) )/ db_sym(a,b))):\r\n",
        "    min_diff = abs( (diff(fy,b,h) - db_sym(a,b) )/ db_sym(a,b))\r\n",
        "    best_h = h\r\n",
        "\r\n",
        "print(\"the best difference size  h  for differentiating f(1,1) by a is:\",'{0:.10f}'.format(best_h))\r\n",
        "print(\"the best difference is:\",min_diff,\"\\n\")\r\n"
      ],
      "execution_count": 307,
      "outputs": [
        {
          "output_type": "stream",
          "text": [
            "the best difference size  h  for differentiating f(1,1) by a is: 0.0000838146\n",
            "the best difference is: 9.96730631121065e-9 \n",
            "\n"
          ],
          "name": "stdout"
        }
      ]
    },
    {
      "cell_type": "markdown",
      "metadata": {
        "id": "zJpUFwZFq4xS"
      },
      "source": [
        "#finding the best h using newton function"
      ]
    },
    {
      "cell_type": "code",
      "metadata": {
        "colab": {
          "base_uri": "https://localhost:8080/"
        },
        "id": "uS80RW9iitB2",
        "outputId": "f1bdc300-63f5-44a5-b0df-d5a4e1df246f"
      },
      "source": [
        "print(db_sym(a,b))"
      ],
      "execution_count": 298,
      "outputs": [
        {
          "output_type": "stream",
          "text": [
            "0.198766110346413\n"
          ],
          "name": "stdout"
        }
      ]
    },
    {
      "cell_type": "code",
      "metadata": {
        "colab": {
          "base_uri": "https://localhost:8080/"
        },
        "id": "Rxu8vCioepkL",
        "outputId": "16d50154-41fb-4119-af4f-ac408fe87f9a"
      },
      "source": [
        "def func(h):\r\n",
        "  return abs( (diff(fy,b,h) - 0.198766110346413)/0.198766110346413 )\r\n",
        "\r\n",
        "best_h = newton(func,0.0000001,niter=10)\r\n",
        "min_diff = func(best_h)\r\n",
        "print(\"the best difference size  h  for differentiating f(1,1) by a is:\",'{0:.10f}'.format(best_h))\r\n",
        "print(\"the best difference is:\",min_diff,\"\\n\")"
      ],
      "execution_count": 308,
      "outputs": [
        {
          "output_type": "stream",
          "text": [
            "the best difference size  h  for differentiating f(1,1) by a is: 0.0000057650\n",
            "the best difference is: 0.0013077473 \n",
            "\n"
          ],
          "name": "stdout"
        }
      ]
    },
    {
      "cell_type": "markdown",
      "metadata": {
        "id": "mKLhu3Z9a3D5"
      },
      "source": [
        "## Question 2: Optimization\n",
        "\n",
        "### Logistic regression\n",
        "\n",
        "For a trial group of 20 rats, concentrations of poison in blood and the event of death are given as a list of pairs (concentration, death) (1 corresponds to death):\n",
        "\n"
      ]
    },
    {
      "cell_type": "code",
      "metadata": {
        "id": "5VHUHiJSbDZg"
      },
      "source": [
        "rats = [(0.47, 0), (0.23, 0), (0.86, 1), (0.22, 0), (0.21, 1),\n",
        "        (0.31, 0), (0.62, 0), (0.941, 1), (0.27, 0), (0.35, 1),\n",
        "        (0.18, 0), (0.13, 0), (0.31, 1), (0.99, 1), (0.85, 1), \n",
        "        (0.35, 1), (0.6, 1), (0.89, 1), (0.6, 1), (0.92, 0)]"
      ],
      "execution_count": 309,
      "outputs": []
    },
    {
      "cell_type": "markdown",
      "metadata": {
        "id": "hNnmQ8d2fAOl"
      },
      "source": [
        "We want to predict rat death based on the concentration of the poison. The prediction function is\n",
        "\n",
        "$$death = concentration \\ge threshold.$$\n",
        "\n",
        "The loss for this _classification_ problem is:\n",
        "\n",
        "\\begin{equation}\n",
        "\\begin{aligned}\n",
        "& L = -\\sum_{i=1}^N (death_i \\log p_i + (1 - death_i) \\log (1 - p_i)) \\\\\n",
        "\\mbox{where} & \\\\\n",
        "& p_i = \\frac 1 {1 + \\exp(threshold - concentration_i)}\n",
        "\\end{aligned}\n",
        "\\end{equation}"
      ]
    },
    {
      "cell_type": "markdown",
      "metadata": {
        "id": "Ky3bsw8EgZsJ"
      },
      "source": [
        "1. Implement the loss as a function of the threshold."
      ]
    },
    {
      "cell_type": "code",
      "metadata": {
        "id": "yEGQD0-vlip_"
      },
      "source": [
        "concentration = np.array([x[0] for x in rats])\r\n",
        "death = np.array([x[1] for x in rats])\r\n",
        "def loss(threshold):\r\n",
        "  \"\"\"computes loss of linear regression.\r\n",
        "  \"\"\"\r\n",
        "  #pi = 1/(1 + np.exp(threshold - concentration))\r\n",
        "  #err = -1*( ( death * np.log(pi) ) + ( (1-death)*np.log(1-pi) ) )\r\n",
        "  #return (np.mean(-1*err))\r\n",
        "  summerr = 0\r\n",
        "  for i in range(len(rats)):\r\n",
        "    pi = 1/(1 + np.exp(threshold - concentration[i]))\r\n",
        "    err = ( ( death[i] * np.log(pi) ) + ( (1-death[i])*np.log(1-pi) ) )\r\n",
        "    summerr += err\r\n",
        "  return np.mean(-1*summerr)"
      ],
      "execution_count": 310,
      "outputs": []
    },
    {
      "cell_type": "markdown",
      "metadata": {
        "id": "j22eKFdKgkti"
      },
      "source": [
        "2. Plot the loss and the derivative of the loss by the threshold in the range $threshold \\in (0.01, 0.99)$."
      ]
    },
    {
      "cell_type": "code",
      "metadata": {
        "id": "aFAjQG9Ug052",
        "colab": {
          "base_uri": "https://localhost:8080/",
          "height": 296
        },
        "outputId": "cff577b2-f5fc-4c9e-c10f-059b29da3a99"
      },
      "source": [
        "x = np.linspace(0.01, 0.99, 100)\r\n",
        "dloss = jax.grad(loss)\r\n",
        "plt.plot(x, [loss(x) for x in x], label=\"loss\")\r\n",
        "plt.plot(x, [dloss(x) for x in x], label=\"dloss/dx\")\r\n",
        "plt.xlabel(\"concentration\")\r\n",
        "plt.ylabel(\"death\")\r\n",
        "plt.axhline(0, lw=0.5, ls='dashed', color='black')\r\n",
        "plt.legend()"
      ],
      "execution_count": 311,
      "outputs": [
        {
          "output_type": "execute_result",
          "data": {
            "text/plain": [
              "<matplotlib.legend.Legend at 0x7fb13715d5c0>"
            ]
          },
          "metadata": {
            "tags": []
          },
          "execution_count": 311
        },
        {
          "output_type": "display_data",
          "data": {
            "image/png": "[encoded data removed]",
            "text/plain": [
              "<Figure size 432x288 with 1 Axes>"
            ]
          },
          "metadata": {
            "tags": [],
            "needs_background": "light"
          }
        }
      ]
    },
    {
      "cell_type": "markdown",
      "metadata": {
        "id": "TIxEbOEdhBKf"
      },
      "source": [
        "3. Find the best threshold using gradient ascent."
      ]
    },
    {
      "cell_type": "code",
      "metadata": {
        "id": "Q0MMAREahDrT",
        "colab": {
          "base_uri": "https://localhost:8080/"
        },
        "outputId": "bdd08364-c199-45bf-9977-034d62e5cbdb"
      },
      "source": [
        "def gd(f, x0, step=0.1, decay=0.995, niter=100):\r\n",
        "  \"\"\"approximates maximum of f starting from x0\r\n",
        "  \"\"\"\r\n",
        "  df = jax.grad(f)\r\n",
        "  x = x0\r\n",
        "  for i in range(niter):\r\n",
        "    x -= df(x)*step\r\n",
        "    step *= decay\r\n",
        "  return x\r\n",
        "\r\n",
        "x = gd(loss, 0.30, niter=200)\r\n",
        "print(f\"x={x:.3f} loss({x:.3f})={loss(x):.3f}\")"
      ],
      "execution_count": 312,
      "outputs": [
        {
          "output_type": "stream",
          "text": [
            "x=0.309 loss(0.309)=12.685\n"
          ],
          "name": "stdout"
        }
      ]
    },
    {
      "cell_type": "markdown",
      "metadata": {
        "id": "zvD-L4rnhGCN"
      },
      "source": [
        "4. Find the best threshold using Newton's method."
      ]
    },
    {
      "cell_type": "code",
      "metadata": {
        "id": "MkF9ML7ohIR4",
        "colab": {
          "base_uri": "https://localhost:8080/"
        },
        "outputId": "574443c3-d2fa-46e4-e499-6e5c6e1edeac"
      },
      "source": [
        "def newton(f, x0, niter=10):\r\n",
        "  df = jax.grad(f)\r\n",
        "  ddf = jax.grad(df)\r\n",
        "  x = x0\r\n",
        "  for i in range(niter):\r\n",
        "    x = x - df(x)/ddf(x)\r\n",
        "  return x\r\n",
        "\r\n",
        "x = newton(loss, 0.30, niter=10)\r\n",
        "print(f\"x={x:.8f} loss({x:.3f})={loss(x):.3f}\")"
      ],
      "execution_count": 313,
      "outputs": [
        {
          "output_type": "stream",
          "text": [
            "x=0.30946714 loss(0.309)=12.685\n"
          ],
          "name": "stdout"
        }
      ]
    },
    {
      "cell_type": "markdown",
      "metadata": {
        "id": "J17VCw3jlFWm"
      },
      "source": [
        "5. Show actual vs. predicted deaths as a scatter plot for the best threshold. How many deaths were misclassified?"
      ]
    },
    {
      "cell_type": "code",
      "metadata": {
        "id": "bGs13-yzlS3B",
        "colab": {
          "base_uri": "https://localhost:8080/",
          "height": 296
        },
        "outputId": "53eab2a6-7764-4395-9d7a-cb75c24e1dd1"
      },
      "source": [
        "plt.scatter(concentration,death,label = 'actual death')\r\n",
        "a = newton(loss, 0.31, niter=10)\r\n",
        "\r\n",
        "plt.hlines(y=0.0, xmin = 0.0, xmax=a)\r\n",
        "plt.vlines(x=a, ymin = 0.0, ymax=1.0,label='threshold')\r\n",
        "plt.hlines(y=1.0, xmin = a, xmax=1.0)\r\n",
        "\r\n",
        "count_clasified = 0\r\n",
        "index = 0\r\n",
        "while(index < len(concentration)):\r\n",
        "  if(concentration[index] < a and death[index] != 1):\r\n",
        "    plt.plot(concentration[index],death[index],marker='+')\r\n",
        "    count_clasified += 1\r\n",
        "  if(concentration[index] > a and death[index] == 1):\r\n",
        "    plt.plot(concentration[index],death[index],marker='+')\r\n",
        "    count_clasified += 1\r\n",
        "  index = index + 1\r\n",
        "\r\n",
        "misclassified_deaths = len(death) - count_clasified\r\n",
        "\r\n",
        "plt.xlabel(\"concentration\")\r\n",
        "plt.ylabel(\"death\")\r\n",
        "plt.legend()\r\n"
      ],
      "execution_count": 314,
      "outputs": [
        {
          "output_type": "execute_result",
          "data": {
            "text/plain": [
              "<matplotlib.legend.Legend at 0x7fb1368ebb00>"
            ]
          },
          "metadata": {
            "tags": []
          },
          "execution_count": 314
        },
        {
          "output_type": "display_data",
          "data": {
            "image/png": "[encoded data removed]",
            "text/plain": [
              "<Figure size 432x288 with 1 Axes>"
            ]
          },
          "metadata": {
            "tags": [],
            "needs_background": "light"
          }
        }
      ]
    },
    {
      "cell_type": "code",
      "metadata": {
        "colab": {
          "base_uri": "https://localhost:8080/"
        },
        "id": "XrnlBP5xxx9x",
        "outputId": "54c8abed-0da1-413a-8d0f-c155ad575d7e"
      },
      "source": [
        "print(misclassified_deaths,\"deaths were misclassified.\")"
      ],
      "execution_count": 315,
      "outputs": [
        {
          "output_type": "stream",
          "text": [
            "5 deaths were misclassified.\n"
          ],
          "name": "stdout"
        }
      ]
    }
  ]
}